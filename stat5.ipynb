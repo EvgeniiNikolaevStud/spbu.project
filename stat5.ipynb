{
 "cells": [
  {
   "cell_type": "markdown",
   "id": "8a9858fd",
   "metadata": {},
   "source": [
    "# Николаев Евгений Алексеевич, группа 22.M08"
   ]
  },
  {
   "cell_type": "markdown",
   "id": "eeecb48f",
   "metadata": {},
   "source": [
    "## Вариант 29"
   ]
  },
  {
   "cell_type": "markdown",
   "id": "bfe4105d",
   "metadata": {},
   "source": [
    "### Практическое задание 5. Проверка гипотез однородности"
   ]
  },
  {
   "cell_type": "markdown",
   "id": "90b82dcb",
   "metadata": {},
   "source": [
    "Данные data_big.csv о финских алкоголиках.\n",
    "\n",
    "- Задача однородности в случае двух выборок (табл. Варианты для проверки однородности\n",
    "двухнезависимых выборок). При наличии трех градаций нужно объединить ячейки, чтобы получитьдве\n",
    "наиболее представленные градации. Проверить на предмет однородности независимых\n",
    "выборокметрическую переменную (столбцы таблицы) в зависимости от категориальной переменной\n",
    "(строкитаблицы) по критерию 1) Вилкоксона, 2) Фишера равенства дисперсий, 3) Стьюдента\n",
    "равенствасредних. Привести значения средних с ошибками среднего, медиан с интерквартильным\n",
    "размахом,значимости соответствующих критериев.\n",
    "- Задача однородности в случае более двух выборок (табл. Варианты для проверки однородноститрех\n",
    "независимых выборок) Проверить на предмет однородности данные метрической переменнойв\n",
    "зависимости от фактора: 1) по критерию Краскела-Уоллиса, 2) при помощи однофакторного дисперсионного анализа. Построить бокс-плот. Применить критерий Стьюдента для множественныхсравнений\n",
    "с поправкой Бонферони и критерий Тьюки.\n",
    "- Выполнить двухфакторный дисперсионный анализ для метрической переменной с двумя факто-рами\n",
    "(первый из своего варианта, второй произвольный). Сравнить результаты использованиямоделей с\n",
    "фиксированными и случайными эффектами.\n",
    "- Для зависимых переменных в разные моменты времени изdatabig.csvс двумя на выбор факторамииз\n",
    "первой точки выполнить ANOV ARepeatedMeasures.Проверить значимость главных факторов,времени и\n",
    "эффектов взаимодействия.\n",
    "\n",
    "Зависимая переменная - chest.pain.1"
   ]
  },
  {
   "cell_type": "markdown",
   "id": "ac675e1e",
   "metadata": {},
   "source": [
    "### Импортирую библиотеки"
   ]
  },
  {
   "cell_type": "code",
   "execution_count": 1,
   "id": "4c803a72",
   "metadata": {},
   "outputs": [],
   "source": [
    "import pandas as pd\n",
    "from scipy.stats import chi2_contingency\n",
    "from scipy import stats"
   ]
  },
  {
   "cell_type": "markdown",
   "id": "b0594140",
   "metadata": {},
   "source": [
    "### Загружаю данные (файл)"
   ]
  },
  {
   "cell_type": "code",
   "execution_count": 2,
   "id": "3acb9195",
   "metadata": {},
   "outputs": [],
   "source": [
    "df = pd.read_csv(open('data_big.csv'), sep=',')\n",
    "df = df.drop(df.columns[0], axis=1)\n",
    "df.columns = df.columns.str.replace('\"', '')\n",
    "df = df.loc[:,:'TPR.1']\n",
    "df = df.drop(columns=['X.1'])"
   ]
  },
  {
   "cell_type": "code",
   "execution_count": 13,
   "id": "48467972",
   "metadata": {},
   "outputs": [],
   "source": [
    "# подсчет значений в столбце 'chest.pain.1'\n",
    "counts0 = df['chest.pain.1'].value_counts()\n",
    "# Заменяет все значения равные 0 в столбце 'chest.pain.1' на 2\n",
    "# Это выполняется для объединения значений 0 и 2 в одну группу.\n",
    "df['thirst.1'] = df['chest.pain.1'].replace(0, 2)\n",
    "counts1 = df['chest.pain.1'].value_counts()\n",
    "# print('1 и 2 больше изначально',counts0)\n",
    "# print('0 добавляем к 2',counts1)\n",
    "df = df.dropna()"
   ]
  },
  {
   "cell_type": "markdown",
   "id": "fe9bd624",
   "metadata": {},
   "source": [
    "Проверить на предмет однородности независимых выборокметрическую переменную (столбцы таблицы) в зависимости от категориальной переменной (строкитаблицы) по критерию 1) Вилкоксона, 2) Фишера равенства дисперсий, 3) Стьюдента равенствасредних."
   ]
  },
  {
   "cell_type": "markdown",
   "id": "2e0faaa5",
   "metadata": {},
   "source": [
    "### Вилкоксон"
   ]
  },
  {
   "cell_type": "markdown",
   "id": "6fc6c6a6",
   "metadata": {},
   "source": [
    "Данный код выполняет сравнение средних значений артериального давления (MBP) между двумя группами пациентов, определяемыми по категориальной переменной 'chest.pain.1' (1 и 2). Для этого используется критерий Вилкоксона, который не требует предположения о нормальности данных."
   ]
  },
  {
   "cell_type": "code",
   "execution_count": 5,
   "id": "91cfef78",
   "metadata": {},
   "outputs": [
    {
     "name": "stdout",
     "output_type": "stream",
     "text": [
      "Критерий Вилкоксона:\n",
      "Статистика = -0.6794\n",
      "p-значение = 0.4969\n",
      "Различия между группами не являются статистически значимыми.\n"
     ]
    }
   ],
   "source": [
    "from scipy.stats import ranksums\n",
    "from scipy.stats import ranksums, f_oneway, ttest_ind, describe\n",
    "import scipy.stats as stats\n",
    "# Установка уровня значимости\n",
    "alpha = 0.05\n",
    "# Разделение данных на две выборки на основе категориальной переменной\n",
    "sample1 = df[df['chest.pain.1'] == 1]['MBP.1']\n",
    "sample2 = df[df['chest.pain.1'] == 2]['MBP.1']\n",
    "# Расчет критерия Вилкоксона\n",
    "wilcoxon_stat, wilcoxon_pvalue = ranksums(sample1, sample2)\n",
    "# Вывод результатов\n",
    "print(\"Критерий Вилкоксона:\")\n",
    "print(\"Статистика =\", \"{:.4f}\".format(wilcoxon_stat))\n",
    "print(\"p-значение =\", \"{:.4f}\".format(wilcoxon_pvalue))\n",
    "if wilcoxon_pvalue < alpha:\n",
    "    print('Различия между группами статистически значимы.')\n",
    "else:\n",
    "    print('Различия между группами не являются статистически значимыми.')"
   ]
  },
  {
   "cell_type": "markdown",
   "id": "f569e58c",
   "metadata": {},
   "source": [
    "Вывод: проведен анализ различий между средними значениями артериального давления (MBP) у двух групп пациентов, разделенных на основе категориальной переменной 'chest.pain.1' (1 и 2). Для этого был использован критерий Вилкоксона, который не требует предположения о нормальности данных. Результаты анализа показали, что различия между группами статистически не значимы, так как полученное p-значение больше уровня значимости 0.05. Это означает, что существует незначимая разница в средних значениях артериального давления между двумя группами пациентов."
   ]
  },
  {
   "cell_type": "markdown",
   "id": "01dac3b4",
   "metadata": {},
   "source": [
    "### Фишер"
   ]
  },
  {
   "cell_type": "markdown",
   "id": "798bd727",
   "metadata": {},
   "source": [
    "Данный код выполняет проверку равенства дисперсий артериального давления (MBP) между двумя группами пациентов, определяемыми по категориальной переменной 'chest.pain.1' (1 и 2). Для этого используется критерий Фишера."
   ]
  },
  {
   "cell_type": "code",
   "execution_count": 7,
   "id": "3c7d9f9c",
   "metadata": {},
   "outputs": [
    {
     "name": "stdout",
     "output_type": "stream",
     "text": [
      "\n",
      "Критерий Фишера (равенство дисперсий):\n",
      "Статистика = 0.7403\n",
      "p-значение = 0.4031\n",
      "Различия между группами не являются статистически значимыми.\n"
     ]
    }
   ],
   "source": [
    "# Проверка равенства дисперсий выборок с использованием критерия Фишера\n",
    "fisher_stat, fisher_pvalue = f_oneway(sample1, sample2)\n",
    "print(\"\\nКритерий Фишера (равенство дисперсий):\")\n",
    "print(\"Статистика =\", \"{:.4f}\".format(fisher_stat))\n",
    "print(\"p-значение =\", \"{:.4f}\".format(fisher_pvalue))\n",
    "if fisher_pvalue < alpha:\n",
    "    print(\"Различия между группами статистически значимы.\")\n",
    "else:\n",
    "    print(\"Различия между группами не являются статистически значимыми.\")"
   ]
  },
  {
   "cell_type": "markdown",
   "id": "512dcebc",
   "metadata": {},
   "source": [
    "Вывод: проведен анализ различий между дисперсиями артериального давления (MBP) у двух групп пациентов, разделенных на основе категориальной переменной 'chest.pain.1' (1 и 2). Для этого был использован критерий Фишера. Результаты анализа показали, что различия между дисперсиями групп не являются статистически значимыми, так как полученное p-значение больше уровня значимости 0.05. Это означает, что группы имеют схожие дисперсии артериального давления."
   ]
  },
  {
   "cell_type": "markdown",
   "id": "61abc9b8",
   "metadata": {},
   "source": [
    "### Стьюдент"
   ]
  },
  {
   "cell_type": "markdown",
   "id": "b07e44e1",
   "metadata": {},
   "source": [
    "Данный код выполняет проверку равенства средних значений артериального давления (MBP) между двумя группами пациентов, определяемыми по категориальной переменной 'chest.pain.1' (1 и 2). Для этого используется t-тест Стьюдента."
   ]
  },
  {
   "cell_type": "code",
   "execution_count": 9,
   "id": "908379fc",
   "metadata": {},
   "outputs": [
    {
     "name": "stdout",
     "output_type": "stream",
     "text": [
      "\n",
      "Т-тест Стьюдента (равенство средних):\n",
      "Статистика = 0.8604\n",
      "p-значение = 0.4031\n",
      "Различия между группами не являются статистически значимыми.\n"
     ]
    }
   ],
   "source": [
    "# Проверка равенства средних выборок с использованием t-теста Стьюдента\n",
    "t_stat, t_pvalue = ttest_ind(sample1, sample2)\n",
    "print(\"\\nТ-тест Стьюдента (равенство средних):\")\n",
    "print(\"Статистика =\", \"{:.4f}\".format(t_stat))\n",
    "print(\"p-значение =\", \"{:.4f}\".format(t_pvalue))\n",
    "if t_pvalue < alpha:\n",
    "    print(\"Различия между группами статистически значимы.\")\n",
    "else:\n",
    "    print(\"Различия между группами не являются статистически значимыми.\")"
   ]
  },
  {
   "cell_type": "markdown",
   "id": "3705924c",
   "metadata": {},
   "source": [
    "Вывод: проведен анализ различий между средними значениями артериального давления (MBP) у двух групп пациентов, разделенных на основе категориальной переменной 'chest.pain.1' (1 и 2). Для этого был использован t-тест Стьюдента. Результаты анализа показали, что различия между группами не являются статистически значимыми, так как полученное p-значение больше уровня значимости 0.05. Это означает, что нет значимой разницы в средних значениях артериального давления между двумя группами пациентов."
   ]
  },
  {
   "cell_type": "code",
   "execution_count": 10,
   "id": "5911a497",
   "metadata": {},
   "outputs": [
    {
     "name": "stdout",
     "output_type": "stream",
     "text": [
      "Описательная статистика для sample1:\n",
      "count     13.000000\n",
      "mean     101.538462\n",
      "std       11.573068\n",
      "min       89.000000\n",
      "25%       92.000000\n",
      "50%       96.000000\n",
      "75%      112.000000\n",
      "max      123.000000\n",
      "Name: MBP.1, dtype: float64\n",
      "\n",
      "Описательная статистика для sample2:\n",
      "count      4.000000\n",
      "mean      89.000000\n",
      "std       52.076866\n",
      "min       11.000000\n",
      "25%       87.500000\n",
      "50%      113.000000\n",
      "75%      114.500000\n",
      "max      119.000000\n",
      "Name: MBP.1, dtype: float64\n"
     ]
    }
   ],
   "source": [
    "# Вывод описательной статистики для sample1\n",
    "print(\"Описательная статистика для sample1:\")\n",
    "print(sample1.describe())\n",
    "# Вывод описательной статистики для sample2\n",
    "print(\"\\nОписательная статистика для sample2:\")\n",
    "print(sample2.describe())"
   ]
  },
  {
   "cell_type": "code",
   "execution_count": 11,
   "id": "d1b80274",
   "metadata": {},
   "outputs": [
    {
     "name": "stdout",
     "output_type": "stream",
     "text": [
      "DescribeResult(nobs=13, minmax=(89, 123), mean=101.53846153846153, variance=133.93589743589743, skewness=0.5852359123596685, kurtosis=-1.1568260990817738)\n",
      "DescribeResult(nobs=4, minmax=(11, 119), mean=89.0, variance=2712.0, skewness=-1.1443624465328894, kurtosis=-0.6742109797165008)\n"
     ]
    }
   ],
   "source": [
    "print(describe(sample1))\n",
    "print(describe(sample2))"
   ]
  },
  {
   "cell_type": "markdown",
   "id": "19e5ee49",
   "metadata": {},
   "source": [
    "Описание статистических данных для выборок sample1 и sample2 показывает, что среднее значение переменной 'MBP.1' в sample1 составляет 101.54, в то время как в sample2 это значение равно 89.00. Однако, стандартное отклонение 'MBP.1' в sample2 значительно выше, чем в sample1, и составляет 52.08 по сравнению с 11.57. Минимальное и максимальное значения переменной 'MBP.1' также различаются между выборками. Медиана (50%) в sample1 равна 96, а в sample2 - 113.\n",
    "\n",
    "Несмотря на то, что проведенные тесты и описательная статистика не выявили статистически значимых различий между выборками sample1 и sample2 по переменной 'MBP.1', следует обратить внимание на некоторые отличия в описательной статистике между выборками. Например, среднее значение 'MBP.1' в sample2 (89.00) ниже, чем в sample1 (101.54), что может указывать на различия в распределении значений переменной между выборками. Кроме того, стандартное отклонение 'MBP.1' в sample2 (52.08) значительно выше, чем в sample1 (11.57), что может свидетельствовать о большей вариабельности значений переменной в этой выборке. Также медиана в sample2 (113) выше, чем в sample1 (96)."
   ]
  },
  {
   "cell_type": "markdown",
   "id": "65998476",
   "metadata": {},
   "source": [
    "## Задача однородности в случае более двух выборок"
   ]
  },
  {
   "cell_type": "markdown",
   "id": "e2158302",
   "metadata": {},
   "source": [
    "SBP.1 - зависимая, insomia.1 - фактор"
   ]
  },
  {
   "cell_type": "markdown",
   "id": "ff345f32",
   "metadata": {},
   "source": [
    "Данный код создает три выборки данных 'sample1', 'sample2' и 'sample3', которые содержат значения переменной 'SBP.1' из DataFrame 'df', отфильтрованные по значениям переменной 'insomia.1'."
   ]
  },
  {
   "cell_type": "code",
   "execution_count": 14,
   "id": "8d05b8cd",
   "metadata": {},
   "outputs": [],
   "source": [
    "import pandas as pd\n",
    "from scipy.stats import kruskal, f_oneway, ttest_ind\n",
    "from statsmodels.stats.multicomp import pairwise_tukeyhsd\n",
    "sample1 = df[df['insomia.1'] == 0]['SBP.1']\n",
    "sample2 = df[df['insomia.1'] == 1]['SBP.1']\n",
    "sample3 = df[df['insomia.1'] == 2]['SBP.1']"
   ]
  },
  {
   "cell_type": "markdown",
   "id": "fa853730",
   "metadata": {},
   "source": [
    "### Краскел-Уоллис"
   ]
  },
  {
   "cell_type": "markdown",
   "id": "788b0294",
   "metadata": {},
   "source": [
    "Данный код использует критерий Краскела-Уоллиса для сравнения распределений значений переменной 'SBP.1' между тремя выборками 'sample1', 'sample2' и 'sample3', отфильтрованными по значениям переменной 'insomia.1'."
   ]
  },
  {
   "cell_type": "code",
   "execution_count": 16,
   "id": "82d8b8e1",
   "metadata": {},
   "outputs": [
    {
     "name": "stdout",
     "output_type": "stream",
     "text": [
      "Критерий Краскела-Уоллиса:\n",
      "Статистика = 0.742419947632665\n",
      "p-значение = 0.6898990656095532\n",
      "\n"
     ]
    }
   ],
   "source": [
    "kruskal_stat, kruskal_pvalue = kruskal(sample1, sample2, sample3)\n",
    "# Вывод результатов\n",
    "print(\"Критерий Краскела-Уоллиса:\")\n",
    "print(\"Статистика =\", kruskal_stat)\n",
    "print(\"p-значение =\", kruskal_pvalue)\n",
    "print()"
   ]
  },
  {
   "cell_type": "markdown",
   "id": "f5b3f92d",
   "metadata": {},
   "source": [
    "Результаты критерия Краскела-Уоллиса показывают, что статистика критерия равна 0.7424, а соответствующее ему p-значение равно 0.6899. Поскольку p-значение больше уровня значимости 0.05, мы не можем отвергнуть нулевую гипотезу о том, что распределения значений переменной 'SBP.1' в выборках 'sample1', 'sample2' и 'sample3' равны."
   ]
  },
  {
   "cell_type": "markdown",
   "id": "594a1f2b",
   "metadata": {},
   "source": [
    "### Однофакторный дисперсионный анализ (ANOVA)"
   ]
  },
  {
   "cell_type": "code",
   "execution_count": 17,
   "id": "942d28a5",
   "metadata": {},
   "outputs": [
    {
     "name": "stdout",
     "output_type": "stream",
     "text": [
      "Однофакторный дисперсионный анализ (ANOVA):\n",
      "Статистика = 0.6748969445279814\n",
      "p-значение = 0.5167714027655057\n",
      "\n"
     ]
    }
   ],
   "source": [
    "f_stat, f_pvalue = f_oneway(sample1, sample2, sample3)\n",
    "print(\"Однофакторный дисперсионный анализ (ANOVA):\")\n",
    "print(\"Статистика =\", f_stat)\n",
    "print(\"p-значение =\", f_pvalue)\n",
    "print()"
   ]
  },
  {
   "cell_type": "markdown",
   "id": "81c52104",
   "metadata": {},
   "source": [
    "Результаты однофакторного дисперсионного анализа (ANOVA) показывают, что статистика анализа равна 0.6749, а соответствующее ему p-значение равно 0.5168. Поскольку p-значение больше уровня значимости 0.05, мы не можем отвергнуть нулевую гипотезу о том, что распределения значений переменной 'SBP.1' в выборках 'sample1', 'sample2' и 'sample3' равны."
   ]
  },
  {
   "cell_type": "markdown",
   "id": "d75f99a0",
   "metadata": {},
   "source": [
    "### Бокс-плот"
   ]
  },
  {
   "cell_type": "markdown",
   "id": "5decc9cf",
   "metadata": {},
   "source": [
    "Каждая группа представлена бокс-плотом, который позволяет наблюдать статистические характеристики распределения переменной \"SBP.1\" в выборках 'sample1', 'sample2' и 'sample3', отфильтрованных по значениям переменной 'insomia.1', такие как медиана, квартили и выбросы. Таким образом, можно сравнить распределение значений переменной \"SBP.1\" в каждой выборке, опираясь на визуальные отличия между бокс-плотами."
   ]
  },
  {
   "cell_type": "code",
   "execution_count": 19,
   "id": "4cda7bc7",
   "metadata": {},
   "outputs": [
    {
     "data": {
      "image/png": "[encoded data removed]",
      "text/plain": [
       "<Figure size 640x480 with 1 Axes>"
      ]
     },
     "metadata": {},
     "output_type": "display_data"
    }
   ],
   "source": [
    "import matplotlib.pyplot as plt\n",
    "\n",
    "# Создаем список выборок\n",
    "data = [sample1, sample2, sample3]\n",
    "\n",
    "# Строим бокс-плоты для каждой выборки\n",
    "fig, ax = plt.subplots()\n",
    "ax.boxplot(data)\n",
    "\n",
    "# Называем оси и график\n",
    "ax.set_title('Распределение SBP.1 по значениям insomia.1')\n",
    "ax.set_xlabel('insomia.1')\n",
    "ax.set_ylabel('SBP.1')\n",
    "\n",
    "# Отображаем график\n",
    "plt.show()\n"
   ]
  },
  {
   "cell_type": "markdown",
   "id": "4852aaea",
   "metadata": {},
   "source": [
    "### Критерий Стьюдента для множественных сравнений с поправкой Бонферони"
   ]
  },
  {
   "cell_type": "markdown",
   "id": "9a0a9ef6",
   "metadata": {},
   "source": [
    "Критерий Стьюдента с поправкой Бонферони является консервативным методом и обеспечивает контроль над вероятностью ложноположительных результатов при множественных сравнениях.\n"
   ]
  },
  {
   "cell_type": "code",
   "execution_count": 21,
   "id": "8139c2b9",
   "metadata": {},
   "outputs": [
    {
     "name": "stdout",
     "output_type": "stream",
     "text": [
      "Отвергаем с поправкой Бонферони: [False]\n",
      "p-значение: [0.8686373]\n"
     ]
    }
   ],
   "source": [
    "from statsmodels.stats.multicomp import pairwise_tukeyhsd\n",
    "from statsmodels.sandbox.stats.multicomp import multipletests\n",
    "student_results = ttest_ind(df[df['insomia.1']==1]['SBP.1'], df[df['insomia.1']==2]['SBP.1'])\n",
    "bonferroni_correction = multipletests(student_results.pvalue, alpha=0.05, method='bonferroni')\n",
    "print('Отвергаем с поправкой Бонферони:', bonferroni_correction[0])\n",
    "print('p-значение:', bonferroni_correction[1])"
   ]
  },
  {
   "cell_type": "markdown",
   "id": "b927a2b7",
   "metadata": {},
   "source": [
    "Данный код выполняет множественное сравнение с помощью поправки Бонферони для двух групп, отфильтрованных по значениям переменной 'insomia.1' и содержащих данные по переменной 'SBP.1'. Результаты теста выводятся на экран в виде отвергаемой или неотвергаемой нулевой гипотезы и скорректированного уровня значимости. Поправка Бонферони позволяет управлять вероятностью ложноположительных результатов при множественных сравнениях, но может уменьшать мощность теста."
   ]
  },
  {
   "cell_type": "markdown",
   "id": "e844438f",
   "metadata": {},
   "source": [
    "Исходя из вывода, отвергнуть нулевую гипотезу на уровне значимости 0.05 с помощью поправки Бонферони не удалось, так как значение корректированного уровня значимости равно 0.8686373, что выше уровня значимости 0.05. Кроме того, булевское значение False в выводе указывает на то, что нулевая гипотеза не была отвергнута после применения поправки Бонферони."
   ]
  },
  {
   "cell_type": "markdown",
   "id": "68bcf70c",
   "metadata": {},
   "source": [
    "### Тьюки"
   ]
  },
  {
   "cell_type": "code",
   "execution_count": 23,
   "id": "f44bae17",
   "metadata": {},
   "outputs": [
    {
     "name": "stdout",
     "output_type": "stream",
     "text": [
      " Multiple Comparison of Means - Tukey HSD, FWER=0.05 \n",
      "=====================================================\n",
      "group1 group2 meandiff p-adj   lower    upper  reject\n",
      "-----------------------------------------------------\n",
      "     0      1  -7.8857  0.637 -29.1988 13.4274  False\n",
      "     0      2  -9.0357 0.4996 -28.6344 10.5629  False\n",
      "     1      2    -1.15 0.9855  -18.584  16.284  False\n",
      "-----------------------------------------------------\n"
     ]
    }
   ],
   "source": [
    "tukey_results = pairwise_tukeyhsd(df['SBP.1'], df['insomia.1'])\n",
    "print(tukey_results)"
   ]
  },
  {
   "cell_type": "markdown",
   "id": "f44168c8",
   "metadata": {},
   "source": [
    "Данный код выполняет множественное сравнение между тремя группами, определенными значением переменной 'insomia.1', и содержащих данные по переменной 'SBP.1', с помощью теста Тьюки (pairwise_tukeyhsd). Результаты теста выводятся на экран в виде таблицы, которая содержит средние значения (meandiff), скорректированные уровни значимости (p-adj), интервалы доверия (lower и upper) и значения, указывающие, отвергается ли нулевая гипотеза для каждой пары групп (reject).\n",
    "\n",
    "Исходя из этого, можно сделать вывод, что статистически значимых различий между группами не обнаружено на уровне значимости 0.05 после применения поправки на множественные сравнения (FWER=0.05). Это подтверждается значениями p-adj (корректированные уровни значимости), которые для всех пар групп больше 0.05. Булевские значения False в столбце reject для всех пар групп указывают на то, что нулевая гипотеза не была отвергнута для каждой пары групп.\n",
    "\n",
    "Таким образом, на основании проведенного анализа, можно сделать вывод, что статистически значимых различий между группами в сравниваемых значениях не обнаружено на уровне значимости 0.05 после применения теста Тьюки. "
   ]
  },
  {
   "cell_type": "markdown",
   "id": "96ef2811",
   "metadata": {},
   "source": [
    "### Двухфакторный дисперсионный анализ с фиксированными эффектами:"
   ]
  },
  {
   "cell_type": "code",
   "execution_count": 30,
   "id": "18f2e1b0",
   "metadata": {},
   "outputs": [
    {
     "name": "stdout",
     "output_type": "stream",
     "text": [
      "                            OLS Regression Results                            \n",
      "==============================================================================\n",
      "Dep. Variable:                    mbp   R-squared:                       0.159\n",
      "Model:                            OLS   Adj. R-squared:                  0.072\n",
      "Method:                 Least Squares   F-statistic:                     1.829\n",
      "Date:                Thu, 01 Jun 2023   Prob (F-statistic):              0.164\n",
      "Time:                        16:25:59   Log-Likelihood:                -137.65\n",
      "No. Observations:                  33   AIC:                             283.3\n",
      "Df Residuals:                      29   BIC:                             289.3\n",
      "Df Model:                           3                                         \n",
      "Covariance Type:            nonrobust                                         \n",
      "====================================================================================\n",
      "                       coef    std err          t      P>|t|      [0.025      0.975]\n",
      "------------------------------------------------------------------------------------\n",
      "Intercept          110.1966     26.440      4.168      0.000      56.121     164.272\n",
      "insomia              6.9903     15.557      0.449      0.657     -24.828      38.808\n",
      "vomiting            19.7125     14.252      1.383      0.177      -9.436      48.861\n",
      "insomia:vomiting    -4.8388      8.758     -0.552      0.585     -22.752      13.074\n",
      "==============================================================================\n",
      "Omnibus:                        8.970   Durbin-Watson:                   1.674\n",
      "Prob(Omnibus):                  0.011   Jarque-Bera (JB):                2.531\n",
      "Skew:                           0.212   Prob(JB):                        0.282\n",
      "Kurtosis:                       1.711   Cond. No.                         37.9\n",
      "==============================================================================\n",
      "\n",
      "Notes:\n",
      "[1] Standard Errors assume that the covariance matrix of the errors is correctly specified.\n"
     ]
    }
   ],
   "source": [
    "import statsmodels.api as sm\n",
    "import statsmodels.formula.api as smf\n",
    "from statsmodels.formula.api import ols\n",
    "insomia = df['insomia.1']\n",
    "vomiting = df['thirst.1']\n",
    "sbp = df['SBP.1']\n",
    "# Построение модели\n",
    "model_fixed = smf.ols('mbp ~ insomia * vomiting', data=df).fit()\n",
    "print(model_fixed.summary())"
   ]
  },
  {
   "cell_type": "markdown",
   "id": "686a402f",
   "metadata": {},
   "source": [
    "Данный код строит линейную регрессионную модель, где зависимая переменная (SBP) зависит от факторов 'insomia', 'thirst.1' и их взаимодействия. Выводится сводная таблица с результатами анализа, включающая коэффициенты регрессии, значимость коэффициентов, стандартные ошибки, доверительные интервалы, а также значения R-квадрат и F-статистики.\n",
    "\n",
    "Можно сделать вывод, что модель с низким значением R-квадрата (0.159) недостаточно хорошо объясняет зависимую переменную (SBP). Также взаимодействие между факторами 'insomia' и 'thirst.1' не оказывает значимого влияния на SBP. "
   ]
  },
  {
   "cell_type": "markdown",
   "id": "d46d2be9",
   "metadata": {},
   "source": [
    "### Mixed Linear Model Regression\n"
   ]
  },
  {
   "cell_type": "code",
   "execution_count": 31,
   "id": "08c549d6",
   "metadata": {},
   "outputs": [
    {
     "name": "stdout",
     "output_type": "stream",
     "text": [
      "         Mixed Linear Model Regression Results\n",
      "=======================================================\n",
      "Model:            MixedLM Dependent Variable: SBP.1    \n",
      "No. Observations: 33      Method:             REML     \n",
      "No. Groups:       19      Scale:              847.5169 \n",
      "Min. group size:  1       Log-Likelihood:     -155.5742\n",
      "Max. group size:  4       Converged:          Yes      \n",
      "Mean group size:  1.7                                  \n",
      "-------------------------------------------------------\n",
      "             Coef.  Std.Err.   z    P>|z| [0.025 0.975]\n",
      "-------------------------------------------------------\n",
      "insomia.1    22.976    5.821  3.947 0.000 11.568 34.384\n",
      "thirst.1     64.812    5.882 11.019 0.000 53.284 76.339\n",
      "Group Var   222.421   14.533                           \n",
      "=======================================================\n",
      "\n"
     ]
    }
   ],
   "source": [
    "from statsmodels.regression.mixed_linear_model import MixedLM\n",
    "endog = df['SBP.1']\n",
    "exog = df[['insomia.1', 'thirst.1']]\n",
    "groups = df['SBP.1']\n",
    "model = MixedLM(endog, exog, groups=groups)\n",
    "model_random = model.fit()\n",
    "print(model_random.summary())"
   ]
  },
  {
   "cell_type": "markdown",
   "id": "ee0c5b78",
   "metadata": {},
   "source": [
    "Можно сделать вывод, что модель с высоким значением статистической значимости (P<0.001) достаточно хорошо объясняет зависимую переменную (SBP.1). Коэффициенты регрессии для 'insomia.1' и 'thirst.1' равны соответственно 22.976 и 64.812, что означает, что увеличение на единицу уровня 'insomia.1' связано с увеличением уровняMBP.1 на 22.976 единдиниц, а увеличение на единицу уровня 'thirst.1' связано с увеличением уровня SBP.1 на 64.812 единиц.\n",
    "\n",
    "Также результаты показывают, что межгрупповая дисперсия (Group Var) составляет 222.421, что может указывать на значительные различия в уровне SBP.1 между группами. Однако, следует быть осторожным при интерпретации этого параметра, так как размеры групп в данном случае неизвестны.\n",
    "\n",
    "Таким образом, можно сделать вывод, что увеличение уровня 'insomia.1' и 'thirst.1' связано с увеличением уровня SBP.1."
   ]
  },
  {
   "cell_type": "code",
   "execution_count": null,
   "id": "362fb7a4",
   "metadata": {},
   "outputs": [],
   "source": []
  }
 ],
 "metadata": {
  "kernelspec": {
   "display_name": "Python 3 (ipykernel)",
   "language": "python",
   "name": "python3"
  },
  "language_info": {
   "codemirror_mode": {
    "name": "ipython",
    "version": 3
   },
   "file_extension": ".py",
   "mimetype": "text/x-python",
   "name": "python",
   "nbconvert_exporter": "python",
   "pygments_lexer": "ipython3",
   "version": "3.10.8"
  }
 },
 "nbformat": 4,
 "nbformat_minor": 5
}
