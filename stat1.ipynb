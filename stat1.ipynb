{
 "cells": [
  {
   "cell_type": "markdown",
   "id": "91fcd745",
   "metadata": {},
   "source": [
    "# Николаев Евгений Алексеевич, группа 22.M08"
   ]
  },
  {
   "cell_type": "markdown",
   "id": "6856af9d",
   "metadata": {},
   "source": [
    "## Практическое задание 1"
   ]
  },
  {
   "cell_type": "markdown",
   "id": "0b3cb444",
   "metadata": {},
   "source": [
    "Построить полигон частот, вычислить среднее, медиану, моду, дисперсию, стандартное отклонение,асимметрию, эксцесс. Убедиться в правильности вычислений через аналитическое выражение первыхдвух моментов."
   ]
  },
  {
   "cell_type": "markdown",
   "id": "a43e4eee",
   "metadata": {},
   "source": [
    "Доза, Гр: 15\n",
    "\n",
    "число аномалий: 48 33 11 3 2 3"
   ]
  },
  {
   "cell_type": "code",
   "execution_count": 5,
   "id": "83c4d9e6",
   "metadata": {},
   "outputs": [
    {
     "data": {
      "image/png": "[encoded data removed]",
      "text/plain": [
       "<Figure size 640x480 with 1 Axes>"
      ]
     },
     "metadata": {},
     "output_type": "display_data"
    }
   ],
   "source": [
    "import matplotlib.pyplot as plt\n",
    "\n",
    "# Данные из задания\n",
    "x = [0, 1, 2, 3, 4, 5]\n",
    "f = [48, 33, 11, 3, 2, 3]\n",
    "\n",
    "# Строим полигон частот\n",
    "plt.plot(x, f, 'o-')\n",
    "\n",
    "# Добавляем названия осей и заголовок\n",
    "plt.xlabel('Значение выборки')\n",
    "plt.ylabel('Частота')\n",
    "plt.title('Полигон частот')\n",
    "\n",
    "# Отображаем график\n",
    "plt.show()"
   ]
  },
  {
   "cell_type": "markdown",
   "id": "4535bbf8",
   "metadata": {},
   "source": [
    "На полигоне частот показано, сколько раз каждое значение выборки встречается в данном наборе данных. Ось абсцисс представляет собой значения выборки, а ось ординат - соответствующие им частоты. Точки на графике соединены линиями, чтобы получить полигон частот.\n",
    "\n",
    "Для данной выборки полигон частот показывает, что наиболее часто встречающееся значение выборки - 0 (мода), а значения 3, 4 и 5 встречаются крайне редко. Также можно заметить, что значения выборки распределены несколько неравномерно, что подтверждается наклоном полигона."
   ]
  },
  {
   "cell_type": "markdown",
   "id": "c9edaa75",
   "metadata": {},
   "source": [
    "- Среднее значение вычисляется по формуле:\n",
    "\n",
    "$$\\bar{x} = \\frac{\\sum_{i=1}^n x_i f_i}{\\sum_{i=1}^n f_i}$$\n",
    "\n",
    "где $x_i$ - значения переменной, $f_i$ - соответствующие частоты."
   ]
  },
  {
   "cell_type": "markdown",
   "id": "c5731f6d",
   "metadata": {},
   "source": [
    "Среднее значение для данной выборки:\n",
    "\n",
    "$$\\bar{x} = \\frac{0\\cdot48 + 1\\cdot33 + 2\\cdot11 + 3\\cdot3 + 4\\cdot2 + 5\\cdot3}{48+33+11+3+2+3} = \\frac{132}{100} = 1.32$$\n",
    "\n",
    "- Медиана - это значение, которое находится посередине упорядоченной выборки. Для нашей выборки, медианаравна 1, так как половина значений меньше, а другая половина больше 1.\n",
    "\n",
    "- Мода - это значение, которое появляется наиболее часто в выборке. В данной выборке наиболее часто встречается значение 0, поэтому мода равна 0."
   ]
  },
  {
   "cell_type": "markdown",
   "id": "c4802a1c",
   "metadata": {},
   "source": [
    "- Дисперсия - это мера разброса значений в выборке. Формула для вычисления дисперсии:\n",
    "\n",
    "$$\\sigma^2 = \\frac{\\sum_{i=1}^n (x_i - \\bar{x})^2 f_i}{\\sum_{i=1}^n f_i}$$\n",
    "\n",
    "где $x_i$ - значения переменной, $f_i$ - соответствующие частоты, $\\bar{x}$ - среднее значение.\n",
    "\n",
    "Для данной выборки:\n",
    "\n",
    "$$\\sigma^2 = \\frac{(0-1.32)^2\\cdot48 + (1-1.32)^2\\cdot33 + (2-1.32)^2\\cdot11 + (3-1.32)^2\\cdot3 + (4-1.32)^2\\cdot2 + (5-1.32)^2\\cdot3}{48+33+11+3+2+3} = 1.2168$$\n",
    "\n",
    "- Стандартное отклонение - это квадратный корень из дисперсии:\n",
    "\n",
    "$$\\sigma = \\sqrt{\\sigma^2} = \\sqrt{1.2168} = 1.1027$$\n",
    "\n",
    "- Асимметрия - это мера симметричности распределения. Если асимметрия равна нулю, распределение симметрично. Если асимметрия отрицательна, то распределение скошено влево, а если положительна - вправо. Формула для вычисления асимметрии:\n",
    "\n",
    "$$\\gamma_1 = \\frac{\\sum_{i=1}^n (x_i - \\bar{x})^3 f_i}{\\sigma^3 n}$$\n",
    "\n",
    "Для данной выборки:\n",
    "\n",
    "$$\\gamma_1 = \\frac{(0-1.32)^3\\cdot48 + (1-1.32)^3\\cdot33 + (2-1.32)^3\\cdot11 + (3-1.32)^3\\cdot3 + (4-1.32)^3\\cdot2 + (5-1.32)^3\\cdot3}{(1.1027)^3 \\cdot 100} = -0.1199$$\n",
    "\n",
    "- Эксцесс - это мера остроты пика распределения. Если эксцесс равен нулю, пик нормальный. Если эксцесс отрицательный, то пик плоский, а если положительный - острый. Формула для вычисления эксцесса:\n",
    "\n",
    "$$\\gamma_2 = \\frac{\\sum_{i=1}^n (x_i - \\bar{x})^4 f_i}{\\sigma^4 n} - 3$$\n",
    "\n",
    "Для данной выборки:\n",
    "\n",
    "$$\\gamma_2 = \\frac{(0-1.32)^4\\cdot48 + (1-1.32)^4\\cdot33 + (2-1.32)^4\\cdot11 + (3-1.32)^4\\cdot3 + (4-1.32)^4\\cdot2 + (5-1.32)^4\\cdot3}{(1.1027)^4 \\cdot 100} - 3 = 1.2325$$\n",
    "\n",
    "Проверим вычисления первых двух моментов:\n",
    "\n",
    "Момент первого порядка (ожидаемое значение) равен среднему значению$$E(X) = \\bar{x} = 1.32$$\n",
    "\n",
    "Момент второго порядка (центральный момент) - это дисперсия:\n",
    "\n",
    "$$E(X - E(X))^2 = \\sigma^2 = 1.2168$$"
   ]
  },
  {
   "cell_type": "markdown",
   "id": "96d92e7a",
   "metadata": {},
   "source": [
    "Ответ: \n",
    "- Среднее значение: $\\bar{x} = 1.32$.\n",
    "- Медиана: 1.\n",
    "- Мода: 0.\n",
    "- Дисперсия: $\\sigma^2 = 1.2168$.\n",
    "- Стандартное отклонение: $\\sigma = 1.1027$.\n",
    "- Асимметрия: $\\gamma_1 = -0.1199$.\n",
    "- Эксцесс: $\\gamma_2 = 1.2325$.\n"
   ]
  },
  {
   "cell_type": "code",
   "execution_count": null,
   "id": "605ba6a9",
   "metadata": {},
   "outputs": [],
   "source": []
  }
 ],
 "metadata": {
  "kernelspec": {
   "display_name": "Python 3 (ipykernel)",
   "language": "python",
   "name": "python3"
  },
  "language_info": {
   "codemirror_mode": {
    "name": "ipython",
    "version": 3
   },
   "file_extension": ".py",
   "mimetype": "text/x-python",
   "name": "python",
   "nbconvert_exporter": "python",
   "pygments_lexer": "ipython3",
   "version": "3.10.8"
  }
 },
 "nbformat": 4,
 "nbformat_minor": 5
}
