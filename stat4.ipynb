{
 "cells": [
  {
   "cell_type": "markdown",
   "id": "229a7ac5",
   "metadata": {},
   "source": [
    "# Николаев Евгений Алексеевич, группа 22.M08"
   ]
  },
  {
   "cell_type": "markdown",
   "id": "a2ccf8fa",
   "metadata": {},
   "source": [
    "## Вариант 29"
   ]
  },
  {
   "cell_type": "markdown",
   "id": "28f2b5ab",
   "metadata": {},
   "source": [
    "### Практическое задание 4. Проверка независимости качественных признаков\n"
   ]
  },
  {
   "cell_type": "markdown",
   "id": "4dfe2904",
   "metadata": {},
   "source": [
    "Данные data_big.csv о финских алкоголиках, переменные - признаки в первый день отказа от запоя:\n",
    "\n",
    "В соответствии со своим вариантом выбираете зависимую переменную, остальные рассматриваете вкачестве независимых. Независимые категориальные переменные упорядочить по значимости влиянияна зависимую переменную. Привести соответствующие частоты, значимости критреия хи-квадрат иточного критерия Фишера. По совместному распределению первых двух наиболее значимых переменныхвычисляете односторонний коэффициент неопределенности относительно зависимой переменной.\n",
    "\n",
    "Мой вариант: В качестве зависимой выбрана переменная diarrhea.1"
   ]
  },
  {
   "cell_type": "markdown",
   "id": "f02b9f3b",
   "metadata": {},
   "source": [
    "### Импортирую библиотеки"
   ]
  },
  {
   "cell_type": "code",
   "execution_count": 28,
   "id": "056f5a96",
   "metadata": {},
   "outputs": [],
   "source": [
    "import pandas as pd\n",
    "from scipy.stats import chi2_contingency\n",
    "from scipy import stats"
   ]
  },
  {
   "cell_type": "markdown",
   "id": "c7c51150",
   "metadata": {},
   "source": [
    "### Загружаю данные (файл)"
   ]
  },
  {
   "cell_type": "code",
   "execution_count": 29,
   "id": "15579377",
   "metadata": {},
   "outputs": [],
   "source": [
    "df = pd.read_csv(open('data_big.csv'), sep=',')\n",
    "df = df.drop(df.columns[0], axis=1)\n",
    "df.columns = df.columns.str.replace('\"', '')\n",
    "df = df.loc[:,:'TPR.1']\n",
    "df = df.drop(columns=['X.1'])"
   ]
  },
  {
   "cell_type": "markdown",
   "id": "8230be8d",
   "metadata": {},
   "source": [
    "### Масштабирую входные данные для получения бинарных значений"
   ]
  },
  {
   "cell_type": "code",
   "execution_count": 30,
   "id": "f65c64f0",
   "metadata": {},
   "outputs": [],
   "source": [
    "from sklearn.preprocessing import StandardScaler\n",
    "\n",
    "df = df.dropna()\n",
    "scaler = StandardScaler()\n",
    "scaled_data = scaler.fit_transform(df)\n",
    "df = pd.DataFrame(scaled_data, columns=df.columns)\n",
    "# Будем считать, что все значения меньше 0.6 равны 0, а все значения больше 0.6, равны 1\n",
    "# (выбрано после просмотра данных на основе того, что в среднем значения были в диапазоне от -1 до 2)\n",
    "replace_func = lambda x: 0 if x < 0.6 else 1\n",
    "df = df.applymap(replace_func)"
   ]
  },
  {
   "cell_type": "markdown",
   "id": "14c54ca6",
   "metadata": {},
   "source": [
    "### Cоздание таблицы сопряженности по каждой переменной:"
   ]
  },
  {
   "cell_type": "markdown",
   "id": "e4092610",
   "metadata": {},
   "source": [
    "Для оценки значимости влияния каждой из переменных на зависимую переменную diarrhea.1 проведем статистический анализ категориальных переменных в pandas DataFrame df. Для этого вычислим критерий хи-квадрат, который позволит нам получить значения критерия хи-квадрат, степени свободы и p-value. Также воспользуемся критерием Фишера, чтобы получить дополнительные значения p-value.\n",
    "\n",
    "Полученные значения помогут определить переменные, которые имеют наибольшую связь с зависимой переменной diarrhea.1. Таким образом, мы сможем выявить наиболее значимые факторы, влияющие на появление данного заболевания."
   ]
  },
  {
   "cell_type": "code",
   "execution_count": 31,
   "id": "26a52355",
   "metadata": {},
   "outputs": [],
   "source": [
    "import numpy as np\n",
    "from scipy.stats import chi2_contingency, fisher_exact\n",
    "# создаем словарь таблиц сопряженности для каждой категориальной переменной\n",
    "contingency_tables = {}\n",
    "# создаем словарь для результатов теста хи-квадрат\n",
    "chi2_results = {}\n",
    "# создаем словарь для результатов теста Фишера\n",
    "fisher_results = {}"
   ]
  },
  {
   "cell_type": "markdown",
   "id": "8018ff87",
   "metadata": {},
   "source": [
    "В первом этапе анализа мы создаем таблицы сопряженности для каждой категориальной переменной в DataFrame df относительно зависимой переменной diarrhea.1. Такие таблицы позволяют произвести кросс-табуляцию двух переменных и определить частоты различных комбинаций категорий."
   ]
  },
  {
   "cell_type": "code",
   "execution_count": 32,
   "id": "b558ac7b",
   "metadata": {},
   "outputs": [],
   "source": [
    "for col in df.columns[1:-1]:\n",
    "    contingency_tables[col] = pd.crosstab(df[col], df['diarrhea.1'])"
   ]
  },
  {
   "cell_type": "markdown",
   "id": "965ee237",
   "metadata": {},
   "source": [
    "Во втором этапе анализа мы вычисляем статистику хи-квадрат, степени свободы, p-значение и ожидаемые частоты для каждой таблицы сопряженности с помощью функции chi2_contingency из модуля scipy.stats. Результаты вычислений сохраняются в словаре chi2_results."
   ]
  },
  {
   "cell_type": "code",
   "execution_count": 33,
   "id": "e8c3ccbc",
   "metadata": {},
   "outputs": [],
   "source": [
    "for var, ct in contingency_tables.items():\n",
    "    chi2, p, dof, expected_freq = chi2_contingency(ct)\n",
    "    chi2_results[var] = (chi2, p, dof, expected_freq)\n",
    "    fisher_results[var] = fisher_exact(ct)[1]"
   ]
  },
  {
   "cell_type": "markdown",
   "id": "c3fa7b98",
   "metadata": {},
   "source": [
    "Далее, мы сортируем результаты теста хи-квадрат и теста Фишера по убыванию степени статистической значимости и сохраняем их в переменные sorted_chi2 и sorted_fisher_p соответственно.\n",
    "\n",
    "Такой подход позволяет нам определить наиболее значимые факторы, влияющие на появление диареи, на основе полученных результатов тестов."
   ]
  },
  {
   "cell_type": "code",
   "execution_count": 34,
   "id": "737c6026",
   "metadata": {},
   "outputs": [],
   "source": [
    "sorted_chi2 = sorted(chi2_results.items(), key=lambda x: x[1][0], reverse=True)\n",
    "sorted_fisher_p = sorted(fisher_results.items(), key=lambda x: x[1], reverse=True)"
   ]
  },
  {
   "cell_type": "markdown",
   "id": "5e16cc35",
   "metadata": {},
   "source": [
    "Выводим результат по критерию хи-квадрат"
   ]
  },
  {
   "cell_type": "code",
   "execution_count": 35,
   "id": "704c87ca",
   "metadata": {},
   "outputs": [
    {
     "name": "stdout",
     "output_type": "stream",
     "text": [
      "Chi-square craving.to.alcohol.1 5.93182603686636\n",
      "Chi-square combined2.1 4.62029569892473\n",
      "Chi-square suspiciousness.1 3.497101814516129\n",
      "Chi-square MBP.1 2.986633064516129\n",
      "Chi-square SBP.1 1.6633064516129035\n",
      "Chi-square thirst.1 1.1305366004962782\n",
      "Chi-square transient.hallusinations.1 0.652016129032258\n",
      "Chi-square weakness.1 0.5992795303605314\n",
      "Chi-square insomia.1 0.5992795303605314\n",
      "Chi-square anxiety.1 0.3315141824249166\n",
      "Chi-square combined1.1 0.1606278801843318\n",
      "Chi-square irritability.1 0.11880760368663593\n",
      "Chi-square polyuria.1 0.018278092874867057\n",
      "Chi-square vomiting.1 0.018278092874867057\n",
      "Chi-square SV.1 0.005544354838709667\n",
      "Chi-square SI.1 0.005544354838709667\n",
      "Chi-square headache.1 0.0\n",
      "Chi-square tremor.1 0.0\n",
      "Chi-square sweating.1 0.0\n",
      "Chi-square anoreksia.1 0.0\n",
      "Chi-square chest.pain.1 0.0\n",
      "Chi-square hyperemia.1 0.0\n",
      "Chi-square HR.1 0.0\n",
      "Chi-square DBP.1 0.0\n",
      "Chi-square CO.1 0.0\n",
      "Chi-square CI.1 0.0\n"
     ]
    }
   ],
   "source": [
    "for i in range(1, len(sorted_chi2)):\n",
    "    print('Chi-square', sorted_chi2[i][0], sorted_chi2[i][1][0])"
   ]
  },
  {
   "cell_type": "code",
   "execution_count": 36,
   "id": "09b18107",
   "metadata": {},
   "outputs": [],
   "source": [
    "# Сохраним на будущее для вычисления одностороннего критерия неопределенности\n",
    "top2_vars = sorted_chi2[1:3]"
   ]
  },
  {
   "cell_type": "markdown",
   "id": "3e32bf8e",
   "metadata": {},
   "source": [
    "Можно заметить, что самыми значимыми являются:\n",
    "\n",
    "craving.to.alcohol.1 (5.93182603686636)\n",
    "\n",
    "combined2.1 (4.62029569892473)"
   ]
  },
  {
   "cell_type": "markdown",
   "id": "1dc7e68b",
   "metadata": {},
   "source": [
    "### Применяю критерий Фишера"
   ]
  },
  {
   "cell_type": "code",
   "execution_count": 37,
   "id": "88964e01",
   "metadata": {},
   "outputs": [
    {
     "name": "stdout",
     "output_type": "stream",
     "text": [
      "Fisher headache.1 1.0\n",
      "Fisher tremor.1 1.0\n",
      "Fisher anoreksia.1 1.0\n",
      "Fisher chest.pain.1 1.0\n",
      "Fisher HR.1 1.0\n",
      "Fisher SV.1 1.0\n",
      "Fisher CO.1 1.0\n",
      "Fisher SI.1 1.0\n",
      "Fisher CI.1 1.0\n",
      "Fisher irritability.1 0.5227272727272727\n",
      "Fisher hyperemia.1 0.5208333333333335\n",
      "Fisher sweating.1 0.47727272727272724\n",
      "Fisher DBP.1 0.47727272727272724\n",
      "Fisher polyuria.1 0.384469696969697\n",
      "Fisher vomiting.1 0.384469696969697\n",
      "Fisher combined1.1 0.2840909090909091\n",
      "Fisher anxiety.1 0.23106060606060605\n",
      "Fisher weakness.1 0.22727272727272727\n",
      "Fisher insomia.1 0.22727272727272727\n",
      "Fisher transient.hallusinations.1 0.17613636363636365\n",
      "Fisher thirst.1 0.14772727272727273\n",
      "Fisher SBP.1 0.10416666666666667\n",
      "Fisher suspiciousness.1 0.06060606060606061\n",
      "Fisher MBP.1 0.053030303030303025\n",
      "Fisher combined2.1 0.02840909090909091\n",
      "Fisher craving.to.alcohol.1 0.01893939393939394\n"
     ]
    }
   ],
   "source": [
    "for i in range(0, len(sorted_fisher_p)):\n",
    "    if sorted_fisher_p[i][0] != 'diarrhea.1':\n",
    "        print('Fisher',sorted_fisher_p[i][0],sorted_fisher_p[i][1])"
   ]
  },
  {
   "cell_type": "markdown",
   "id": "c07f13c1",
   "metadata": {},
   "source": [
    "Как можно заметить, результат абсолютно зеркален результату по Хи-квадрат"
   ]
  },
  {
   "cell_type": "markdown",
   "id": "1a4f8770",
   "metadata": {},
   "source": [
    "Для удобства сравнения создаю гистограмму.\n"
   ]
  },
  {
   "cell_type": "code",
   "execution_count": 38,
   "id": "875793ae",
   "metadata": {},
   "outputs": [
    {
     "data": {
      "image/png": "[encoded data removed]",
      "text/plain": [
       "<Figure size 640x480 with 1 Axes>"
      ]
     },
     "metadata": {},
     "output_type": "display_data"
    }
   ],
   "source": [
    "import matplotlib.pyplot as plt\n",
    "\n",
    "chi2_p_values = [x[1][1] for x in sorted_chi2]\n",
    "fisher_p_values = [x[1] for x in sorted_fisher_p]\n",
    "\n",
    "plt.hist(chi2_p_values, bins=20, alpha=0.5, color='red', label='Chi-square')\n",
    "plt.hist(fisher_p_values, bins=20, alpha=0.5, color='yellow', label='Fisher')\n",
    "plt.title('Histogram of p-values')\n",
    "plt.xlabel('p-value')\n",
    "plt.ylabel('Frequency')\n",
    "plt.legend()\n",
    "plt.show()"
   ]
  },
  {
   "cell_type": "markdown",
   "id": "1f5b2c18",
   "metadata": {},
   "source": [
    "Если ни одна из независимых переменных не оказывает влияния на целевую переменную, то мы можем ожидать, что распределение p-значений будет равномерным, то есть вероятность получения любого значения p-значения будет одинаковой. Однако, если какая-то из независимых переменных действительно влияет на целевую переменную, то мы можем ожидать, что соответствующее p-значение будет низким, что указывает на высокую значимость наблюдаемой статистики на заданном уровне значимости."
   ]
  },
  {
   "cell_type": "markdown",
   "id": "2d6e67c2",
   "metadata": {},
   "source": [
    "### По совместному распределению первых двух наиболее значимых переменных вычислим односторонний коэффициент неопределенности относительно зависимой переменной."
   ]
  },
  {
   "cell_type": "code",
   "execution_count": 48,
   "id": "52be1d46",
   "metadata": {},
   "outputs": [
    {
     "name": "stdout",
     "output_type": "stream",
     "text": [
      "Односторонний кф неопределенности для переменной: craving.to.alcohol.1\n",
      "0: 0.5156179509192629\n",
      "1: 0.24511479511263368\n",
      "Односторонний кф неопределенности для переменной: combined2.1\n",
      "0: 0.6058865194454062\n",
      "1: 0.24511479511263357\n"
     ]
    },
    {
     "name": "stderr",
     "output_type": "stream",
     "text": [
      "/Library/Frameworks/Python.framework/Versions/3.10/lib/python3.10/site-packages/pandas/core/internals/blocks.py:352: RuntimeWarning: divide by zero encountered in log2\n",
      "  result = func(self.values, **kwargs)\n"
     ]
    }
   ],
   "source": [
    "# таблицы сопряженности для двух пар переменных\n",
    "ct_top1_diarrhea = pd.crosstab(df[top2_vars[0][0]], df['diarrhea.1'])\n",
    "ct_top2_diarrhea = pd.crosstab(df[top2_vars[1][0]], df['diarrhea.1'])\n",
    "\n",
    "marginal_top1 = ct_top1_diarrhea.sum(axis=1)\n",
    "marginal_diarrhea = ct_top1_diarrhea.sum(axis=0)\n",
    "marginal_top2 = ct_top2_diarrhea.sum(axis=1)\n",
    "# общее количество наблюдений в данных.\n",
    "n = ct_top1_diarrhea.sum().sum()\n",
    "# INU1 и INU2 - односторонний критерий неопределенности\n",
    "# Для первой значимой переменной\n",
    "H1 = -np.sum((ct_top1_diarrhea/n)*np.log2(ct_top1_diarrhea/n)) + np.sum((marginal_top1/n)*np.log2(marginal_top1/n))+ np.sum((marginal_diarrhea/n)*np.log2(marginal_diarrhea/n))\n",
    "I1 = H1 - np.sum(chi2_contingency(ct_top1_diarrhea)[3]/n*np.log2(chi2_contingency(ct_top1_diarrhea)[3]/n))\n",
    "INU1 = I1/np.max([marginal_top1.sum()/n, marginal_diarrhea.sum()/n])\n",
    "# Для второй значимой переменной\n",
    "H2 = -np.sum((ct_top2_diarrhea/n)*np.log2(ct_top2_diarrhea/n)) + np.sum((marginal_top2/n)*np.log2(marginal_top2/n))+ np.sum((marginal_diarrhea/n)*np.log2(marginal_diarrhea/n))\n",
    "I2 = H2 - np.sum(chi2_contingency(ct_top2_diarrhea)[3]/n*np.log2(chi2_contingency(ct_top2_diarrhea)[3]/n))\n",
    "INU2 = I2/np.max([marginal_top2.sum()/n, marginal_diarrhea.sum()/n])\n",
    "print(f'Односторонний кф неопределенности для переменной: {top2_vars[0][0]}')\n",
    "print('0:', INU1[0])\n",
    "print('1:', INU1[1])\n",
    "print(f'Односторонний кф неопределенности для переменной: {top2_vars[1][0]}')\n",
    "print('0:', INU2[0])\n",
    "print('1:', INU2[1])"
   ]
  },
  {
   "cell_type": "markdown",
   "id": "e2c8b1d1",
   "metadata": {},
   "source": [
    "Таким образом, значения INU, которые получили, указывают на то, чтопеременная combined2.1 имеет более\n",
    "высокую информативность, чем переменная craving.to.alcohol.1, для предсказания целевой переменной. В\n",
    "частности, для модальности 0 переменной combined2.1 значение INU выше, чем для модальности 0\n",
    "переменной craving.to.alcohol.1, что говорит о более сильной связи между переменной combined2.1 и целевой\n",
    "переменной для этой модальности. Однако, для модальности 1 значения INU для обеих переменных примерно\n",
    "одинаковы, что говорит о более слабой связи между переменными и целевой переменной для этой\n",
    "модальности."
   ]
  }
 ],
 "metadata": {
  "kernelspec": {
   "display_name": "Python 3 (ipykernel)",
   "language": "python",
   "name": "python3"
  },
  "language_info": {
   "codemirror_mode": {
    "name": "ipython",
    "version": 3
   },
   "file_extension": ".py",
   "mimetype": "text/x-python",
   "name": "python",
   "nbconvert_exporter": "python",
   "pygments_lexer": "ipython3",
   "version": "3.10.8"
  }
 },
 "nbformat": 4,
 "nbformat_minor": 5
}
